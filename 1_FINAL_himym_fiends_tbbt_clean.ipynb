{
 "cells": [
  {
   "cell_type": "markdown",
   "metadata": {},
   "source": [
    "# Data Cleaning Script\n",
    "This notebook is used for cleaning and preprocessing datasets for TV Shows Friends, HIMYM, and TBBT.\n",
    "First step: Import necessary Python libraries for data processing and cleaning."
   ]
  },
  {
   "cell_type": "code",
   "execution_count": 1,
   "metadata": {},
   "outputs": [],
   "source": [
    "import pandas as pd"
   ]
  },
  {
   "cell_type": "markdown",
   "metadata": {},
   "source": [
    "# Data: Load, overview, convert\n",
    "Load the datasets for Friends, HIMYM, and TBBT into pandas DataFrames. Check the basic structure of each dataset to identify potential issues. \n",
    "Drop rows with missing values and unnecesary columns.\n",
    "Standardize the date format for easier analysis."
   ]
  },
  {
   "cell_type": "code",
   "execution_count": 2,
   "metadata": {},
   "outputs": [],
   "source": [
    "friends = pd.read_csv('friends_combined.csv')\n",
    "himym = pd.read_csv('HIMYM_combined.csv')\n",
    "tbbt = pd.read_csv('TBBT_combined.csv')\n",
    "\n",
    "friends = friends.dropna()\n",
    "himym = himym.dropna()\n",
    "tbbt = tbbt.dropna()\n",
    "\n",
    "himym = himym.drop(columns=['episode'])\n",
    "tbbt = tbbt.drop(columns=['episode_name'])\n",
    "friends = friends.drop(columns=['episode_name'])\n",
    "\n",
    "friends['original_air_date'] = pd.to_datetime(friends['original_air_date'].str.replace('.', ''), format=\"%d %b %Y\")\n",
    "himym['original_air_date'] = pd.to_datetime(himym['original_air_date'].str.replace('.', ''), format=\"%d %b %Y\")\n",
    "tbbt['original_air_date'] = pd.to_datetime(tbbt['original_air_date'].str.replace('.', ''), format=\"%d %b %Y\")"
   ]
  },
  {
   "cell_type": "markdown",
   "metadata": {},
   "source": [
    "## Filter and clean data\n",
    "For consistency and to allow functional comparisons across the series, we are limiting our analysis to the first six seasons of all shows. \n",
    "This decision is made because season 7 of HIMYM is incomplete, and filtering to six seasons ensures fairness in the analysis.\n",
    "Strip whitespace and remove content inside parentheses from the dialogue/line columns."
   ]
  },
  {
   "cell_type": "code",
   "execution_count": 3,
   "metadata": {},
   "outputs": [
    {
     "name": "stdout",
     "output_type": "stream",
     "text": [
      "season\n",
      "1    24\n",
      "2    24\n",
      "3    24\n",
      "4    23\n",
      "5    23\n",
      "6    24\n",
      "Name: episode_num, dtype: int64\n",
      "season\n",
      "1    22\n",
      "2    20\n",
      "3    16\n",
      "4    24\n",
      "5    24\n",
      "6    24\n",
      "Name: episode_num, dtype: int64\n",
      "season\n",
      "1    17\n",
      "2    23\n",
      "3    23\n",
      "4    24\n",
      "5    24\n",
      "6    24\n",
      "Name: episode_num, dtype: int64\n"
     ]
    }
   ],
   "source": [
    "friends = friends[friends['season'] <= 6].copy()\n",
    "himym = himym[himym['season'] <= 6].copy()\n",
    "tbbt = tbbt[tbbt['season'] <= 6].copy()\n",
    "\n",
    "print(friends.groupby('season')['episode_num'].nunique())\n",
    "print(himym.groupby('season')['episode_num'].nunique())\n",
    "print(tbbt.groupby('season')['episode_num'].nunique())\n",
    "\n",
    "\n",
    "friends['line'] = friends['line'].str.strip().str.replace(r'\\(.*?\\)', '', regex=True)\n",
    "himym['line'] = himym['line'].str.strip().str.replace(r'\\(.*?\\)', '', regex=True)\n",
    "tbbt['dialogue'] = tbbt['dialogue'].str.strip().str.replace(r'\\(.*?\\)', '', regex=True)"
   ]
  },
  {
   "cell_type": "markdown",
   "metadata": {},
   "source": [
    "## Add Word Count Column\n",
    "Calculate the number of words in each dialogue/line and add it as a new column."
   ]
  },
  {
   "cell_type": "code",
   "execution_count": 4,
   "metadata": {},
   "outputs": [],
   "source": [
    "friends['word_count'] = friends['line'].str.split().str.len()\n",
    "himym['word_count'] = himym['line'].str.split().str.len()\n",
    "tbbt['word_count'] = tbbt['dialogue'].str.split().str.len()"
   ]
  },
  {
   "cell_type": "markdown",
   "metadata": {},
   "source": [
    "## Filter Main Characters\n",
    "Keep only rows with dialogues from main characters in the datasets."
   ]
  },
  {
   "cell_type": "code",
   "execution_count": 5,
   "metadata": {},
   "outputs": [],
   "source": [
    "friends_character = ['rachel', 'ross', 'chandler', 'monica', 'joey', 'phoebe']\n",
    "friends = friends[friends['character'].str.lower().isin(friends_character)].copy()\n",
    "\n",
    "valid_person_scene = ['sheldon', 'leonard', 'penny', 'howard', 'raj', 'amy', 'bernadette']\n",
    "tbbt = tbbt[tbbt['person_scene'].str.lower().isin(valid_person_scene)].copy()\n",
    "\n",
    "himym_characters = ['ted', 'marshall', 'lily', 'robin', 'barney']\n",
    "himym = himym[himym['name'].str.lower().isin(himym_characters)].copy()"
   ]
  },
  {
   "cell_type": "markdown",
   "metadata": {},
   "source": [
    "## Export Cleaned Data\n",
    "Save the cleaned datasets to new CSV files for further analysis."
   ]
  },
  {
   "cell_type": "code",
   "execution_count": 6,
   "metadata": {},
   "outputs": [],
   "source": [
    "friends.to_csv('FINAL_friends_clean.csv', index=False)\n",
    "himym.to_csv('FINAL_himym_clean.csv', index=False)\n",
    "tbbt.to_csv('FINAL_tbbt_clean.csv', index=False)"
   ]
  }
 ],
 "metadata": {
  "kernelspec": {
   "display_name": "Python 3",
   "language": "python",
   "name": "python3"
  },
  "language_info": {
   "codemirror_mode": {
    "name": "ipython",
    "version": 3
   },
   "file_extension": ".py",
   "mimetype": "text/x-python",
   "name": "python",
   "nbconvert_exporter": "python",
   "pygments_lexer": "ipython3",
   "version": "3.12.5"
  }
 },
 "nbformat": 4,
 "nbformat_minor": 2
}
