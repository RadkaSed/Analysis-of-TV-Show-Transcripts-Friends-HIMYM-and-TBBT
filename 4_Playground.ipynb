{
 "cells": [
  {
   "cell_type": "code",
   "execution_count": 21,
   "metadata": {},
   "outputs": [],
   "source": [
    "import pandas as pd\n",
    "\n",
    "tbbt_ngramsdf = pd.read_csv('FINAL_TBBT_ngrams.csv')\n",
    "himym_ngramsdf = pd.read_csv('FINAL_HIMYM_ngrams.csv')\n",
    "friends_ngramsdf = pd.read_csv('FINAL_Friends_ngrams.csv')\n",
    "\n",
    "merged_df = pd.merge(tbbt_ngramsdf[['ngram', 'ngram_type', 'count', 'Sheldon', 'Leonard', 'Penny', 'Howard', 'Raj', 'Bernadette', 'Amy']], \n",
    "                     himym_ngramsdf[['ngram', 'ngram_type', 'count', 'Barney', 'Ted', 'Lily', 'Robin', 'Marshall']],\n",
    "                     on='ngram', \n",
    "                     how='outer', \n",
    "                     suffixes=('_TBBT', '_HIMYM'))\n",
    "\n",
    "\n",
    "merged_df = pd.merge(merged_df, \n",
    "                     friends_ngramsdf[['ngram', 'ngram_type', 'count', 'Monica', 'Joey', 'Chandler', 'Phoebe', 'Ross', 'Rachel']], \n",
    "                     on='ngram', \n",
    "                     how='outer')\n",
    "\n",
    "merged_df = merged_df.rename(columns={'count': 'Count_Friends'})\n",
    "\n",
    "merged_df['ngram_type'] = merged_df[['ngram_type_TBBT', 'ngram_type_HIMYM', 'ngram_type']].bfill(axis=1).iloc[:, 0]\n",
    "\n",
    "merged_df = merged_df.drop(['ngram_type_TBBT', 'ngram_type_HIMYM'], axis=1)\n",
    "\n",
    "merged_df.insert(1, 'ngram_type', merged_df.pop('ngram_type'))\n",
    "\n",
    "merged_df['Count_ALL'] = merged_df[['count_TBBT', 'count_HIMYM', 'Count_Friends']].sum(axis=1, skipna=True)\n",
    "\n",
    "merged_df.to_csv('FINAL_merged_ngrams.csv', index=False)"
   ]
  }
 ],
 "metadata": {
  "kernelspec": {
   "display_name": "Python 3",
   "language": "python",
   "name": "python3"
  },
  "language_info": {
   "codemirror_mode": {
    "name": "ipython",
    "version": 3
   },
   "file_extension": ".py",
   "mimetype": "text/x-python",
   "name": "python",
   "nbconvert_exporter": "python",
   "pygments_lexer": "ipython3",
   "version": "3.12.5"
  }
 },
 "nbformat": 4,
 "nbformat_minor": 2
}
